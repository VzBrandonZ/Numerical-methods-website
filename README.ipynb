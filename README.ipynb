{
 "cells": [
  {
   "cell_type": "markdown",
   "metadata": {},
   "source": [
    "## <h2 align = 'center'>UNIVERSIDAD LAICA “ELOY ALFARO”DE MANABI</h2>\n",
    "    \n",
    "## <h2 align = 'center'>TECNOLOGIA DE LA INFORMACION</h2>\n",
    "## <h2 align = 'center'>METODOS NUMERICOS</h2>\n",
    "## <h2 align = 'center'>4TO SEMESTRE “B”</h2>\n",
    "## <h2 align = 'center'>lunes, 20 de junio de 2022</h2>\n",
    "<br/>\n",
    "<br/>\n",
    "<br/>\n",
    "<br/>\n",
    "<br/>\n",
    "<br/>\n",
    "<br/>\n",
    "<br/>\n",
    "<br/>\n",
    "<br/>\n",
    "\n",
    "# <h1 align = 'center'>INTERFAZ CREADA DE LOS METODOS CON PYSCRIPT</h1>\n",
    "# <h2 align = 'center'> (Code python)</h2>\n",
    "\n",
    "<br/>\n",
    "<br/>\n",
    "<br/>\n",
    "<br/>\n",
    "<br/>\n",
    "<br/>\n",
    "<br/>\n",
    "<br/>\n",
    "<br/>\n",
    "<br/>\n",
    "\n",
    "## <h2 align = 'center'>Brando Rafael Mero Cepeda</h2>\n",
    "## <h2 align = 'center'>Facultad de Ciencias informáticas, Universidad de Manta</h2>\n",
    "## <h2 align = 'center'>Ing. Jorge Aníbal Moya Delgado</h2>\n",
    "<br/>\n",
    "<br/>    "
   ]
  },
  {
   "cell_type": "markdown",
   "metadata": {},
   "source": [
    "### Determine la raíz mas grande de:\n",
    "\n",
    "$f(x) = (2x^3 - 11.7x^2 + 17.7x - 5)$\n",
    "\n",
    "$a)$ Con el Método de Aproximaciones sucesivas $xo = 3$ $△x = 0.1$ y  $eps = 0.0001$"
   ]
  },
  {
   "cell_type": "markdown",
   "metadata": {},
   "source": [
    "## <h1 align = \"center\" >EJERCICIO CON METODO DE APROXIMACIONES SUCESIVAS</h1>\n",
    "<img src=\"./src/public/img/ejemploAproximaionSucesiva.png\" alt=\"Ejemplo\" width=\"\">"
   ]
  },
  {
   "cell_type": "markdown",
   "metadata": {},
   "source": [
    "\n",
    "$f(x) = (2x^3 - 11.7x^2 + 17.7x - 5)$\n",
    "\n",
    "$b)$ Con el Método de Newton Raphson $xo = 3$ y  $eps = 0.0001$"
   ]
  },
  {
   "cell_type": "markdown",
   "metadata": {},
   "source": [
    "## <h1 align = \"center\" >EJERCICIO CON METODO DE NEWTON RAPHSON</h1>\n",
    "<img src=\"./src/public/img/ejemploNewtonRaphson.png\" alt=\"Ejemplo\" width=\"\">"
   ]
  },
  {
   "cell_type": "markdown",
   "metadata": {},
   "source": [
    "$f(x) = (2x^3 - 11.7x^2 + 17.7x - 5)$\n",
    "\n",
    "$b)$ Con el Método de Bisección $x1 = 3$  $x2 = 4$ $eps = 0.0001$ "
   ]
  },
  {
   "cell_type": "markdown",
   "metadata": {},
   "source": [
    "## <h1 align = \"center\" >EJERCICIO CON METODO DE BISECCION</h1>\n",
    "<img src=\"./src/public/img/ejemploBiseccion.png\" alt=\"Ejemplo\" width=\"\">"
   ]
  },
  {
   "cell_type": "markdown",
   "metadata": {},
   "source": [
    "## <h1 align = \"center\" >GRAFICA DE LA FUNCION</h1>\n",
    "<div align = \"center\"><img src=\"./src/public/img/grafica.png\" alt=\"Ejemplo\" width=\"\"></div>"
   ]
  },
  {
   "cell_type": "markdown",
   "metadata": {},
   "source": [
    "<h1 align = \"center\">CONCLUSION</h1>\n",
    "<p>Si nos damos cuenta en cada metodo para encontrar la aproximacion a la raiz tenemos diferentes iteracciones, pero teniendo en cuenta que utilizamos el epsilon en un valor de 0.0001, en casi todas nos da el valor aproximado en las 3 primeras decimas, que nos da como resultado: 3.5631 y si visualizamos la grafica de la funcion, tenemos en cuenta que los datos arrojados por cada metodo son correcto, ya que la raiz en la grafica de la funcion tambien nos da un valor de 3.5631...</p>"
   ]
  },
  {
   "cell_type": "markdown",
   "metadata": {},
   "source": [
    "# Nota\n",
    "Para correr el index debe prender el servidor de python, ya que pyscript correr en servidores, si no inicia el servidor, pyscript da error. Para poder iniciar el servidor, deber ir al directorio del proyecto con la terminal, luego de eso ingresar el siguiente comando:\n",
    "\n",
    "python -m http.server 3000\n",
    "\n",
    "luego irse al localhost:3000\n",
    "y ya estaria corriendo el servidor para el proyecto.\n",
    "\n"
   ]
  },
  {
   "cell_type": "markdown",
   "metadata": {},
   "source": []
  }
 ],
 "metadata": {
  "kernelspec": {
   "display_name": "Python 3 (ipykernel)",
   "language": "python",
   "name": "python3"
  },
  "language_info": {
   "codemirror_mode": {
    "name": "ipython",
    "version": 3
   },
   "file_extension": ".py",
   "mimetype": "text/x-python",
   "name": "python",
   "nbconvert_exporter": "python",
   "pygments_lexer": "ipython3",
   "version": "3.9.7"
  }
 },
 "nbformat": 4,
 "nbformat_minor": 2
}
